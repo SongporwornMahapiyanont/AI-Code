{
  "nbformat": 4,
  "nbformat_minor": 0,
  "metadata": {
    "colab": {
      "provenance": [],
      "gpuType": "T4"
    },
    "kernelspec": {
      "name": "python3",
      "display_name": "Python 3"
    },
    "language_info": {
      "name": "python"
    },
    "accelerator": "GPU",
    "gpuClass": "standard"
  },
  "cells": [
    {
      "cell_type": "code",
      "execution_count": null,
      "metadata": {
        "id": "Psc9OjgWmUSo"
      },
      "outputs": [],
      "source": [
        "import numpy as np\n",
        "import os\n",
        "import matplotlib.pyplot as plt\n",
        "\n",
        "from tensorflow.keras.applications.vgg16 import VGG16, preprocess_input, decode_predictions\n",
        "#from tensorflow.keras.applications.resnet50 import ResNet50, preprocess_input, decode_predictions\n",
        "#from tensorflow.keras.applications.mobilenet_v2 import MobileNetV2, preprocess_input, decode_predictions\n",
        "\n",
        "from tensorflow.keras.preprocessing.image import load_img, img_to_array"
      ]
    },
    {
      "cell_type": "code",
      "source": [
        "test_fd = 'dataset_01'\n",
        "\n",
        "from google.colab import drive\n",
        "drive.mount('/content/drive')\n",
        "path = '/content/drive/MyDrive/Colab Notebooks/' + test_fd \n",
        "print(path)"
      ],
      "metadata": {
        "id": "lGtVIF20qvhy"
      },
      "execution_count": null,
      "outputs": []
    },
    {
      "cell_type": "code",
      "source": [
        "model = VGG16(weights='imagenet')\n",
        "#model = ResNet50(weights='imagenet')\n",
        "#model = MobileNetV2(weights='imagenet')\n",
        "\n",
        "#model.summary()\n",
        "\n",
        "#from tensorflow.keras.utils import plot_model\n",
        "#plot_model(model,show_shapes=True,show_layer_names=True)"
      ],
      "metadata": {
        "id": "rz2MVEbBncwi"
      },
      "execution_count": null,
      "outputs": []
    },
    {
      "cell_type": "code",
      "source": [
        "test_fn = 'test4.jpg'\n",
        "image = load_img(path+'/'+test_fn,target_size=(224,224))\n",
        "plt.imshow(image)\n",
        "image = img_to_array(image)\n",
        "print('min max =',image.min(),image.max())\n",
        "print('shape =',image.shape)"
      ],
      "metadata": {
        "id": "48LgGk7wogkG"
      },
      "execution_count": null,
      "outputs": []
    },
    {
      "cell_type": "code",
      "source": [
        "image = np.expand_dims(image,axis=0) # (1,224,244,3)\n",
        "print('shape =',image.shape)\n",
        "image = preprocess_input(image)\n",
        "print('min max =',image.min(),image.max())\n",
        "\n",
        "pred = model.predict(image)\n",
        "pred_decode = decode_predictions(pred,top=5)[0]\n",
        "#print('Predicted: {} {:0.2f}%'.format(pred_decode[0][1],pred_decode[0][2]*100))\n",
        "for i in pred_decode:\n",
        "    print('{} : {:.3f}%'.format(i[1],i[2]*100))"
      ],
      "metadata": {
        "id": "brY0cvU0px_5"
      },
      "execution_count": null,
      "outputs": []
    }
  ]
}
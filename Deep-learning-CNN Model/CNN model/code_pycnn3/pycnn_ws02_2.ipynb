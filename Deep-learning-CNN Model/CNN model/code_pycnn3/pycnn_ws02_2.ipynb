{
  "nbformat": 4,
  "nbformat_minor": 0,
  "metadata": {
    "colab": {
      "provenance": [],
      "gpuType": "T4"
    },
    "kernelspec": {
      "name": "python3",
      "display_name": "Python 3"
    },
    "language_info": {
      "name": "python"
    },
    "accelerator": "GPU",
    "gpuClass": "standard"
  },
  "cells": [
    {
      "cell_type": "code",
      "execution_count": null,
      "metadata": {
        "id": "Py6NdrMLfGQm"
      },
      "outputs": [],
      "source": [
        "import numpy as np\n",
        "import os\n",
        "import matplotlib.pyplot as plt\n",
        "from tensorflow.keras.preprocessing.image import ImageDataGenerator"
      ]
    },
    {
      "cell_type": "markdown",
      "source": [
        "เข้าถึง dataset"
      ],
      "metadata": {
        "id": "htWb92mMrYzX"
      }
    },
    {
      "cell_type": "code",
      "source": [
        "test_fd = 'dataset_02'\n",
        "\n",
        "from google.colab import drive\n",
        "drive.mount('/content/drive')\n",
        "path = '/content/drive/MyDrive/Colab Notebooks/' + test_fd \n",
        "print(path)\n",
        "\n",
        "train_dir = path + '/train_set'\n",
        "val_dir = path + '/val_set'\n",
        "test_dir = path + '/test_set'\n",
        "\n",
        "target_img_shape=(128,128)"
      ],
      "metadata": {
        "id": "fNUSTJWrfigR"
      },
      "execution_count": null,
      "outputs": []
    },
    {
      "cell_type": "markdown",
      "source": [
        "data augmentation"
      ],
      "metadata": {
        "id": "AOY1Aq0OYeby"
      }
    },
    {
      "cell_type": "code",
      "source": [
        "train_datagen = ImageDataGenerator(rescale=1./255,\n",
        "                                   rotation_range=20, # +-\n",
        "                                   height_shift_range=0.15, # + -\n",
        "                                   width_shift_range=0.15, # + -\n",
        "                                   shear_range=0.9,\n",
        "                                   zoom_range=0.2,\n",
        "                                   horizontal_flip=True)\n",
        "train_set = train_datagen.flow_from_directory(train_dir,\n",
        "                                              target_size=target_img_shape,\n",
        "                                              batch_size=32,\n",
        "                                              class_mode='binary')\n",
        "\n",
        "val_datagen = ImageDataGenerator(rescale=1./255)\n",
        "val_set = val_datagen.flow_from_directory(val_dir,\n",
        "                                          target_size=target_img_shape,\n",
        "                                          batch_size=32,\n",
        "                                          class_mode='binary')\n",
        "\n",
        "test_datagen = ImageDataGenerator(rescale=1./255)\n",
        "test_set = test_datagen.flow_from_directory(test_dir,\n",
        "                                            target_size=target_img_shape,\n",
        "                                            batch_size=32,\n",
        "                                            class_mode='binary',\n",
        "                                            shuffle=False)\n",
        "\n",
        "nplots = 12\n",
        "def visual_multi(images_arr):\n",
        "    fig = plt.figure(figsize=(11,8))\n",
        "    for j in range(nplots):\n",
        "        plt.subplot(3,4,j+1)\n",
        "        plt.imshow(images_arr[j])\n",
        "        plt.axis('off')\n",
        "    plt.show()\n",
        "\n",
        "augmented_images = [train_set[0][0][0] for i in range(nplots)]\n",
        "visual_multi(augmented_images)"
      ],
      "metadata": {
        "id": "6pZLoL7agExV"
      },
      "execution_count": null,
      "outputs": []
    },
    {
      "cell_type": "markdown",
      "source": [
        "จำนวนภาพที่ใช้ในการ train, val และ test"
      ],
      "metadata": {
        "id": "MVHpxas0LQ2j"
      }
    },
    {
      "cell_type": "code",
      "source": [
        "labels = (train_set.class_indices)\n",
        "labels = dict((v,k) for k,v in labels.items())\n",
        "print(labels)\n",
        "\n",
        "print('Train')\n",
        "ids, counts = np.unique(train_set.classes,return_counts=True)\n",
        "for i in ids:\n",
        "    print(labels[i]+' = '+str(counts[i]))\n",
        "\n",
        "print('Val')\n",
        "ids, counts = np.unique(val_set.classes,return_counts=True)\n",
        "for i in ids:\n",
        "    print(labels[i]+' = '+str(counts[i]))\n",
        "\n",
        "print('Test')\n",
        "ids, counts = np.unique(test_set.classes,return_counts=True)\n",
        "for i in ids:\n",
        "    print(labels[i]+' = '+str(counts[i]))\n",
        "\n",
        "input_shape = (target_img_shape[0],target_img_shape[1],3)\n",
        "print(input_shape)"
      ],
      "metadata": {
        "id": "EOxB7P7Vpuc7"
      },
      "execution_count": null,
      "outputs": []
    },
    {
      "cell_type": "markdown",
      "source": [
        "โครงสร้างของ model"
      ],
      "metadata": {
        "id": "To1OVYENIycr"
      }
    },
    {
      "cell_type": "code",
      "source": [
        "from tensorflow.keras import Sequential\n",
        "from tensorflow.keras.layers import Conv2D, MaxPool2D, Flatten, Dense\n",
        "\n",
        "model = Sequential()\n",
        "\n",
        "model.add(Conv2D(32,(3,3),activation='relu',input_shape=input_shape))\n",
        "model.add(MaxPool2D((2,2)))\n",
        "\n",
        "model.add(Conv2D(64,(3,3),activation='relu'))\n",
        "model.add(MaxPool2D((2,2)))\n",
        "\n",
        "model.add(Conv2D(128,(3,3),activation='relu'))\n",
        "model.add(MaxPool2D((2,2)))\n",
        "\n",
        "model.add(Flatten())\n",
        "model.add(Dense(128,activation='relu'))\n",
        "model.add(Dense(1,activation='sigmoid'))\n",
        "\n",
        "model.summary()\n",
        "\n",
        "#from tensorflow.keras.utils import plot_model\n",
        "#plot_model(model,show_shapes=True,show_layer_names=True)"
      ],
      "metadata": {
        "id": "pr9cAnsknXZt"
      },
      "execution_count": null,
      "outputs": []
    },
    {
      "cell_type": "markdown",
      "source": [
        "train model"
      ],
      "metadata": {
        "id": "QTlEIm7GIt8A"
      }
    },
    {
      "cell_type": "code",
      "source": [
        "model.compile(loss='binary_crossentropy',\n",
        "              optimizer='adam',\n",
        "              metrics=['accuracy'])\n",
        "\n",
        "history = model.fit(train_set,\n",
        "                    validation_data=val_set,\n",
        "                    epochs=50,\n",
        "                    verbose=1)"
      ],
      "metadata": {
        "id": "Gep25bj7pS3I"
      },
      "execution_count": null,
      "outputs": []
    },
    {
      "cell_type": "markdown",
      "source": [
        "แสดงกราฟ loss และ accuracy"
      ],
      "metadata": {
        "id": "YKHs2SYcIoLQ"
      }
    },
    {
      "cell_type": "code",
      "source": [
        "plt.figure()\n",
        "plt.title('Loss')\n",
        "plt.plot(history.history['loss'],'b',label='Training Loss')\n",
        "plt.plot(history.history['val_loss'],'r',label='Validation Loss')\n",
        "plt.legend()\n",
        "plt.show()\n",
        "\n",
        "plt.figure()\n",
        "plt.title('Accuracy')\n",
        "plt.plot(history.history['accuracy'],'b',label='Training Accuracy')\n",
        "plt.plot(history.history['val_accuracy'],'r',label='Validation Accuracy')\n",
        "plt.legend()\n",
        "plt.show()"
      ],
      "metadata": {
        "id": "k9vWYUV8rvaS"
      },
      "execution_count": null,
      "outputs": []
    },
    {
      "cell_type": "markdown",
      "source": [
        "ทดสอบกับภาพ 1 ภาพ"
      ],
      "metadata": {
        "id": "w0DQuc_IGIyb"
      }
    },
    {
      "cell_type": "code",
      "source": [
        "from tensorflow.keras.preprocessing.image import load_img, img_to_array\n",
        "\n",
        "test_image = load_img(test_dir+'/cat/'+'cat.4040.jpg',target_size=target_img_shape)\n",
        "#test_image = load_img(test_dir+'/dog/'+'dog.4021.jpg',target_size=target_img_shape)\n",
        "test_image = img_to_array(test_image)\n",
        "test_image = test_image/255.0 # 0-1\n",
        "plt.imshow(test_image)\n",
        "plt.show()\n",
        "\n",
        "test_image = np.expand_dims(test_image,axis=0) # (1, 128, 128, 3)\n",
        "print(test_image.shape)\n",
        "\n",
        "result = model.predict(test_image)\n",
        "print(result)\n",
        "print(train_set.class_indices)\n",
        "\n",
        "if result[0][0]>0.5:\n",
        "    predict = 'dog'\n",
        "else:\n",
        "    predict = 'cat'\n",
        "print(predict)"
      ],
      "metadata": {
        "id": "d5Pu3_NcGIIa"
      },
      "execution_count": null,
      "outputs": []
    },
    {
      "cell_type": "markdown",
      "source": [
        "ทดสอบกับภาพทั้ง folder test_set"
      ],
      "metadata": {
        "id": "dySJB2u2F61M"
      }
    },
    {
      "cell_type": "code",
      "source": [
        "acc = model.evaluate(test_set)\n",
        "print('accuracy_score =',acc[1])"
      ],
      "metadata": {
        "id": "Ln7V-trSp9Ke"
      },
      "execution_count": null,
      "outputs": []
    },
    {
      "cell_type": "code",
      "source": [
        "#Confution Matrix and Classification Report\n",
        "from sklearn.metrics import classification_report, confusion_matrix, accuracy_score\n",
        "\n",
        "Y_pred = model.predict(test_set)\n",
        "print(len(Y_pred))\n",
        "\n",
        "y_pred = []\n",
        "for i in Y_pred:\n",
        "    if i > 0.5:\n",
        "        y_pred.append(1) #dog\n",
        "    else:\n",
        "        y_pred.append(0) #cat\n",
        "\n",
        "print('test_set.classes = ',test_set.classes)\n",
        "print('y_pred = ', y_pred)\n",
        "\n",
        "print('Confusion Matrix')\n",
        "print(confusion_matrix(test_set.classes, y_pred))\n",
        "print('Classification Report')\n",
        "target_names = ['cat', 'dog']\n",
        "print(classification_report(test_set.classes, y_pred, target_names=target_names))\n",
        "print('accuracy_score = ',accuracy_score(test_set.classes, y_pred))\n",
        "\n",
        "import seaborn as sns\n",
        "ax = plt.subplot()\n",
        "cm = confusion_matrix(test_set.classes,y_pred)\n",
        "sns.heatmap(cm,annot=True,ax=ax,cmap='coolwarm')\n",
        "ax.set_xlabel('Predicted labels')\n",
        "ax.set_ylabel('Actual labels')\n",
        "ax.set_title('Confusion Matrix')\n",
        "ax.xaxis.set_ticklabels(target_names)\n",
        "ax.yaxis.set_ticklabels(target_names)\n",
        "plt.show() "
      ],
      "metadata": {
        "id": "QIK8wpyxtWtm"
      },
      "execution_count": null,
      "outputs": []
    }
  ]
}
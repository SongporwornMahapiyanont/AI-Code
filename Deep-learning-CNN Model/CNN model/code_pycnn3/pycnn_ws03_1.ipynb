{
  "cells": [
    {
      "cell_type": "code",
      "execution_count": null,
      "metadata": {
        "id": "Py6NdrMLfGQm"
      },
      "outputs": [],
      "source": [
        "import numpy as np\n",
        "import os\n",
        "import matplotlib.pyplot as plt\n",
        "from tensorflow.keras.preprocessing.image import ImageDataGenerator\n",
        "\n",
        "from tensorflow.keras.applications.vgg16 import VGG16\n",
        "from tensorflow.keras.applications.vgg16 import preprocess_input,decode_predictions"
      ]
    },
    {
      "cell_type": "markdown",
      "metadata": {
        "id": "YDE2ndwkrdcx"
      },
      "source": [
        "เข้าถึง dataset"
      ]
    },
    {
      "cell_type": "code",
      "execution_count": null,
      "metadata": {
        "id": "fNUSTJWrfigR"
      },
      "outputs": [],
      "source": [
        "test_fd = 'dataset_03'\n",
        "\n",
        "from google.colab import drive\n",
        "drive.mount('/content/drive')\n",
        "path = '/content/drive/MyDrive/Colab Notebooks/' + test_fd \n",
        "print(path)\n",
        "os.listdir(path)\n",
        "\n",
        "train_dir = path + '/train_set'\n",
        "val_dir = path + '/val_set'\n",
        "test_dir = path + '/test_set'\n",
        "\n",
        "target_img_shape=(128,128)"
      ]
    },
    {
      "cell_type": "code",
      "execution_count": null,
      "metadata": {
        "id": "6pZLoL7agExV"
      },
      "outputs": [],
      "source": [
        "train_datagen = ImageDataGenerator(preprocessing_function=preprocess_input,\n",
        "                                   rotation_range=20, # +-\n",
        "                                   height_shift_range=0.15, # + -\n",
        "                                   width_shift_range=0.15, # + -\n",
        "                                   shear_range=0.9,\n",
        "                                   zoom_range=0.2,\n",
        "                                   horizontal_flip=True)\n",
        "train_set = train_datagen.flow_from_directory(train_dir,\n",
        "                                              target_size=target_img_shape,\n",
        "                                              batch_size=32,\n",
        "                                              class_mode='sparse')\n",
        "\n",
        "val_datagen = ImageDataGenerator(preprocessing_function=preprocess_input)\n",
        "val_set = val_datagen.flow_from_directory(val_dir,\n",
        "                                          target_size=target_img_shape,\n",
        "                                          batch_size=32,\n",
        "                                          class_mode='sparse')\n",
        "\n",
        "test_datagen = ImageDataGenerator(preprocessing_function=preprocess_input)\n",
        "test_set = test_datagen.flow_from_directory(test_dir,\n",
        "                                            target_size=target_img_shape,\n",
        "                                            batch_size=32,\n",
        "                                            class_mode='sparse',\n",
        "                                            shuffle=False)"
      ]
    },
    {
      "cell_type": "markdown",
      "metadata": {
        "id": "MVHpxas0LQ2j"
      },
      "source": [
        "จำนวนภาพที่ใช้ในการ train, val และ test"
      ]
    },
    {
      "cell_type": "code",
      "execution_count": null,
      "metadata": {
        "id": "EOxB7P7Vpuc7"
      },
      "outputs": [],
      "source": [
        "labels = (train_set.class_indices)\n",
        "labels = dict((v,k) for k,v in labels.items())\n",
        "print(labels)\n",
        "\n",
        "print('Train')\n",
        "ids, counts = np.unique(train_set.classes,return_counts=True)\n",
        "for i in ids:\n",
        "    print(labels[i]+' = '+str(counts[i]))\n",
        "\n",
        "print('Val')\n",
        "ids, counts = np.unique(val_set.classes,return_counts=True)\n",
        "for i in ids:\n",
        "    print(labels[i]+' = '+str(counts[i]))\n",
        "\n",
        "print('Test')\n",
        "ids, counts = np.unique(test_set.classes,return_counts=True)\n",
        "for i in ids:\n",
        "    print(labels[i]+' = '+str(counts[i]))\n",
        "\n",
        "input_shape = (target_img_shape[0],target_img_shape[1],3)\n",
        "print(input_shape)"
      ]
    },
    {
      "cell_type": "markdown",
      "metadata": {
        "id": "To1OVYENIycr"
      },
      "source": [
        "โครงสร้างของ model"
      ]
    },
    {
      "cell_type": "code",
      "execution_count": null,
      "metadata": {
        "id": "pr9cAnsknXZt"
      },
      "outputs": [],
      "source": [
        "from tensorflow.keras import Sequential\n",
        "from tensorflow.keras.layers import Flatten, Dense\n",
        "\n",
        "base_model = VGG16(include_top=False,\n",
        "                   weights='imagenet',\n",
        "                   input_shape=input_shape)\n",
        "base_model.summary()\n",
        "\n",
        "model = Sequential()\n",
        "\n",
        "model.add(base_model)\n",
        "\n",
        "model.add(Flatten())\n",
        "model.add(Dense(128,activation='relu'))\n",
        "model.add(Dense(128,activation='relu'))\n",
        "model.add(Dense(3,activation='softmax'))\n",
        "\n",
        "model.summary()\n",
        "\n",
        "base_model.trainable = True # ทำให้ทุกชั้น train ได้\n",
        "\n",
        "for layer in base_model.layers[:-12]: # เฉพาะ 12 ชั้นท้าย train ได้\n",
        "    layer.trainable = False\n",
        "\n",
        "for variable in model.trainable_variables:\n",
        "    print(variable.name)\n",
        "\n",
        "#from tensorflow.keras.utils import plot_model\n",
        "#plot_model(model,show_shapes=True,show_layer_names=True)"
      ]
    },
    {
      "cell_type": "markdown",
      "metadata": {
        "id": "QTlEIm7GIt8A"
      },
      "source": [
        "train model"
      ]
    },
    {
      "cell_type": "code",
      "execution_count": null,
      "metadata": {
        "id": "Gep25bj7pS3I"
      },
      "outputs": [],
      "source": [
        "from tensorflow.keras.optimizers import Adam\n",
        "opt = Adam(learning_rate=1e-5)\n",
        "model.compile(loss='sparse_categorical_crossentropy',\n",
        "              optimizer=opt,\n",
        "              metrics=['accuracy'])\n",
        "\n",
        "history = model.fit(train_set,\n",
        "                    validation_data=val_set,\n",
        "                    epochs=50,\n",
        "                    verbose=1)"
      ]
    },
    {
      "cell_type": "markdown",
      "metadata": {
        "id": "YKHs2SYcIoLQ"
      },
      "source": [
        "แสดงกราฟ loss และ accuracy"
      ]
    },
    {
      "cell_type": "code",
      "execution_count": null,
      "metadata": {
        "id": "k9vWYUV8rvaS"
      },
      "outputs": [],
      "source": [
        "plt.figure()\n",
        "plt.title('Loss')\n",
        "plt.plot(history.history['loss'],'b',label='Training Loss')\n",
        "plt.plot(history.history['val_loss'],'r',label='Validation Loss')\n",
        "plt.legend()\n",
        "plt.show()\n",
        "\n",
        "plt.figure()\n",
        "plt.title('Accuracy')\n",
        "plt.plot(history.history['accuracy'],'b',label='Training Accuracy')\n",
        "plt.plot(history.history['val_accuracy'],'r',label='Validation Accuracy')\n",
        "plt.legend()\n",
        "plt.show()"
      ]
    },
    {
      "cell_type": "markdown",
      "metadata": {
        "id": "w0DQuc_IGIyb"
      },
      "source": [
        "ทดสอบกับภาพ 1 ภาพ"
      ]
    },
    {
      "cell_type": "code",
      "execution_count": null,
      "metadata": {
        "id": "d5Pu3_NcGIIa"
      },
      "outputs": [],
      "source": [
        "from tensorflow.keras.preprocessing.image import load_img, img_to_array\n",
        "\n",
        "#test_image = load_img(test_dir+'/rose/'+'6125332325_b768e08bd9_n.jpg',target_size=target_img_shape)\n",
        "#test_image = load_img(test_dir+'/sunflower/'+'5180859236_60aa57ff9b_n.jpg',target_size=target_img_shape)\n",
        "test_image = load_img(test_dir+'/tulip/'+'5704726114_a92f753514.jpg',target_size=target_img_shape)\n",
        "plt.imshow(test_image)\n",
        "plt.show()\n",
        "\n",
        "test_image = img_to_array(test_image)\n",
        "test_image = preprocess_input(test_image)\n",
        "\n",
        "test_image = np.expand_dims(test_image,axis=0) # (1, 128, 128, 3)\n",
        "print(test_image.shape)\n",
        "\n",
        "result = model.predict(test_image)\n",
        "print(result)\n",
        "print(train_set.class_indices)\n",
        "\n",
        "class_answer = np.argmax(result,axis=1)\n",
        "if class_answer == 0:\n",
        "    predict = 'rose'\n",
        "elif class_answer == 1:\n",
        "    predict = 'sunflower'\n",
        "elif class_answer == 2:\n",
        "    predict = 'tulip'\n",
        "print(predict)"
      ]
    },
    {
      "cell_type": "markdown",
      "metadata": {
        "id": "dySJB2u2F61M"
      },
      "source": [
        "ทดสอบกับภาพทั้ง folder test_set"
      ]
    },
    {
      "cell_type": "code",
      "execution_count": null,
      "metadata": {
        "id": "M5RLSvmOpWNy"
      },
      "outputs": [],
      "source": [
        "acc = model.evaluate(test_set)\n",
        "print('accuracy_score =',acc[1])"
      ]
    },
    {
      "cell_type": "code",
      "execution_count": null,
      "metadata": {
        "id": "QIK8wpyxtWtm"
      },
      "outputs": [],
      "source": [
        "#Confution Matrix and Classification Report\n",
        "from sklearn.metrics import classification_report, confusion_matrix, accuracy_score\n",
        "\n",
        "Y_pred = model.predict(test_set)\n",
        "print(len(Y_pred))\n",
        "\n",
        "y_pred = np.argmax(Y_pred,axis=1)\n",
        "\n",
        "print('test_set.classes = ',test_set.classes)\n",
        "print('y_pred = ', y_pred)\n",
        "\n",
        "print('Confusion Matrix')\n",
        "print(confusion_matrix(test_set.classes, y_pred))\n",
        "print('Classification Report')\n",
        "target_names = ['rose', 'sunflower','tulip']\n",
        "print(classification_report(test_set.classes, y_pred, target_names=target_names))\n",
        "print('accuracy_score = ',accuracy_score(test_set.classes, y_pred))\n",
        "\n",
        "import seaborn as sns\n",
        "ax = plt.subplot()\n",
        "cm = confusion_matrix(test_set.classes,y_pred)\n",
        "sns.heatmap(cm,annot=True,ax=ax,cmap='coolwarm')\n",
        "ax.set_xlabel('Predicted labels')\n",
        "ax.set_ylabel('Actual labels')\n",
        "ax.set_title('Confusion Matrix')\n",
        "ax.xaxis.set_ticklabels(target_names)\n",
        "ax.yaxis.set_ticklabels(target_names)\n",
        "plt.show() "
      ]
    }
  ],
  "metadata": {
    "accelerator": "GPU",
    "colab": {
      "provenance": []
    },
    "gpuClass": "standard",
    "kernelspec": {
      "display_name": "Python 3",
      "name": "python3"
    },
    "language_info": {
      "name": "python"
    }
  },
  "nbformat": 4,
  "nbformat_minor": 0
}